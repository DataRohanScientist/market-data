{
 "cells": [
  {
   "cell_type": "code",
   "execution_count": 1,
   "metadata": {},
   "outputs": [],
   "source": [
    "sal=[10000,20000,50000,80000,100000,25000,70000,90000,38000]\n"
   ]
  },
  {
   "cell_type": "code",
   "execution_count": 3,
   "metadata": {},
   "outputs": [
    {
     "name": "stdout",
     "output_type": "stream",
     "text": [
      "[10000, 20000, 50000, 80000, 100000, 25000, 70000, 90000, 38000]\n",
      "['D', 'D', 'B', 'A', 'A', 'D', 'A', 'A', 'C']\n"
     ]
    }
   ],
   "source": [
    "#task:--> transform salaries into grades\n",
    "#>=70000-->A\n",
    "#>=50000 and <70000-->B\n",
    "#>=30000 and <50000-->c\n",
    "#<30000-->D\n",
    "\n",
    "def grade(s):\n",
    "    g='D'\n",
    "    if s>=70000:\n",
    "        g='A'\n",
    "    elif s>=50000:\n",
    "        g='B'\n",
    "    elif s>=30000:\n",
    "        g='C'\n",
    "    return g\n",
    "#format grades=[expr for s in sal]\n",
    "grades=[grade(s) for s in sal]\n",
    "print(sal)\n",
    "print(grades)\n",
    "    \n"
   ]
  },
  {
   "cell_type": "code",
   "execution_count": 7,
   "metadata": {},
   "outputs": [
    {
     "name": "stdout",
     "output_type": "stream",
     "text": [
      "['a', 'b', 'c', 'd', 'e', 'f', 'g', 'h', 'i']\n",
      "[10000, 20000, 50000, 80000, 100000, 25000, 70000, 90000, 38000]\n",
      "[11, 12, 13, 14, 11, 12, 13, 12]\n",
      "['Marketing', 'HR', 'Finance', 'other', 'Marketing', 'HR', 'Finance', 'HR']\n",
      "['D', 'D', 'B', 'A', 'A', 'D', 'A', 'A', 'C']\n",
      "[1000.0, 2000.0, 5000.0, 8000.0, 10000.0, 2500.0, 7000.0, 9000.0, 3800.0]\n",
      "[2000.0, 4000.0, 10000.0, 16000.0, 20000.0, 5000.0, 14000.0, 18000.0, 7600.0]\n"
     ]
    }
   ],
   "source": [
    "dno=[11,12,13,14,11,12,13,12]\n",
    "#task:\n",
    "#11-->Marketing\n",
    "#12--->HR\n",
    "#13--->Finance\n",
    "#remaning--> other\n",
    "\n",
    "def dept(d):\n",
    "    dname='other'\n",
    "    if d==11:\n",
    "        dname='Marketing'\n",
    "    elif d==12:\n",
    "        dname='HR'\n",
    "    elif d==13:\n",
    "        dname='Finance'\n",
    "    return dname\n",
    "dnames=[dept(v) for v in dno]\n",
    "tax=[v*0.1 for v in sal]\n",
    "hra=[v*0.2 for v in sal]\n",
    "name=['a','b','c','d','e','f','g','h','i']\n",
    "print(name)\n",
    "print(sal)\n",
    "print(dno)\n",
    "print(dnames)\n",
    "print(grades)\n",
    "print(tax)\n",
    "print(hra)"
   ]
  },
  {
   "cell_type": "code",
   "execution_count": 9,
   "metadata": {},
   "outputs": [
    {
     "name": "stdout",
     "output_type": "stream",
     "text": [
      "('a', 10000, 1000.0, 2000.0, 'D', 11, 'Marketing')\n",
      "('b', 20000, 2000.0, 4000.0, 'D', 12, 'HR')\n",
      "('c', 50000, 5000.0, 10000.0, 'B', 13, 'Finance')\n",
      "('d', 80000, 8000.0, 16000.0, 'A', 14, 'other')\n",
      "('e', 100000, 10000.0, 20000.0, 'A', 11, 'Marketing')\n",
      "('f', 25000, 2500.0, 5000.0, 'D', 12, 'HR')\n",
      "('g', 70000, 7000.0, 14000.0, 'A', 13, 'Finance')\n",
      "('h', 90000, 9000.0, 18000.0, 'A', 12, 'HR')\n"
     ]
    }
   ],
   "source": [
    "# formar:-->for n,s,t,h,g,dn,dm in list(zip(name,sal,tax,hra,grades,dno,dnames))\n",
    "# v-->n,s,t,h,g,dn,dm\n",
    "for V in list(zip(name,sal,tax,hra,grades,dno,dnames)):\n",
    "     print(V)"
   ]
  },
  {
   "cell_type": "code",
   "execution_count": 10,
   "metadata": {},
   "outputs": [
    {
     "data": {
      "text/plain": [
       "[('a', 10000, 1000.0, 2000.0, 'D', 11, 'Marketing'),\n",
       " ('b', 20000, 2000.0, 4000.0, 'D', 12, 'HR'),\n",
       " ('c', 50000, 5000.0, 10000.0, 'B', 13, 'Finance'),\n",
       " ('d', 80000, 8000.0, 16000.0, 'A', 14, 'other'),\n",
       " ('e', 100000, 10000.0, 20000.0, 'A', 11, 'Marketing'),\n",
       " ('f', 25000, 2500.0, 5000.0, 'D', 12, 'HR'),\n",
       " ('g', 70000, 7000.0, 14000.0, 'A', 13, 'Finance'),\n",
       " ('h', 90000, 9000.0, 18000.0, 'A', 12, 'HR')]"
      ]
     },
     "execution_count": 10,
     "metadata": {},
     "output_type": "execute_result"
    }
   ],
   "source": [
    "info=list(zip(name,sal,tax,hra,grades,dno,dnames))\n",
    "info"
   ]
  },
  {
   "cell_type": "code",
   "execution_count": 16,
   "metadata": {},
   "outputs": [
    {
     "name": "stdout",
     "output_type": "stream",
     "text": [
      "[11000.0, 22000.0, 55000.0, 88000.0, 110000.0, 27500.0, 77000.0, 99000.0, 41800.0]\n",
      "____________________________________________________________________________________________________\n",
      "[(10000, 1000.0, 2000.0), (20000, 2000.0, 4000.0), (50000, 5000.0, 10000.0), (80000, 8000.0, 16000.0), (100000, 10000.0, 20000.0), (25000, 2500.0, 5000.0), (70000, 7000.0, 14000.0), (90000, 9000.0, 18000.0), (38000, 3800.0, 7600.0)]\n"
     ]
    }
   ],
   "source": [
    "# operation on sal,tax,hra\n",
    "#format net=[expr for v in list(zip(sal,tax,hra))]\n",
    "net=[s+h-t for s,t,h in list(zip(sal,tax,hra))]\n",
    "print(net)\n",
    "print(\"_\"*100)\n",
    "print(list(zip(sal,tax,hra)))"
   ]
  },
  {
   "cell_type": "code",
   "execution_count": null,
   "metadata": {},
   "outputs": [],
   "source": []
  }
 ],
 "metadata": {
  "kernelspec": {
   "display_name": "Python 3",
   "language": "python",
   "name": "python3"
  },
  "language_info": {
   "codemirror_mode": {
    "name": "ipython",
    "version": 3
   },
   "file_extension": ".py",
   "mimetype": "text/x-python",
   "name": "python",
   "nbconvert_exporter": "python",
   "pygments_lexer": "ipython3",
   "version": "3.7.6"
  }
 },
 "nbformat": 4,
 "nbformat_minor": 4
}
